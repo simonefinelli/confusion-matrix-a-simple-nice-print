{
 "cells": [
  {
   "cell_type": "markdown",
   "metadata": {},
   "source": [
    "# A Nice Print of Confusion Matrix"
   ]
  },
  {
   "cell_type": "markdown",
   "metadata": {},
   "source": [
    "## Load the Famous Iris dataset"
   ]
  },
  {
   "cell_type": "code",
   "execution_count": 1,
   "metadata": {},
   "outputs": [],
   "source": [
    "from sklearn.datasets import load_iris\n",
    "\n",
    "X, y = load_iris(return_X_y=True)"
   ]
  },
  {
   "cell_type": "markdown",
   "metadata": {},
   "source": [
    "## Training a Classifier"
   ]
  },
  {
   "cell_type": "code",
   "execution_count": 2,
   "metadata": {},
   "outputs": [
    {
     "data": {
      "text/plain": [
       "DecisionTreeClassifier(ccp_alpha=0.0, class_weight=None, criterion='gini',\n",
       "                       max_depth=2, max_features=None, max_leaf_nodes=None,\n",
       "                       min_impurity_decrease=0.0, min_impurity_split=None,\n",
       "                       min_samples_leaf=1, min_samples_split=2,\n",
       "                       min_weight_fraction_leaf=0.0, presort='deprecated',\n",
       "                       random_state=42, splitter='best')"
      ]
     },
     "execution_count": 2,
     "metadata": {},
     "output_type": "execute_result"
    }
   ],
   "source": [
    "from sklearn.tree import DecisionTreeClassifier\n",
    "from sklearn.model_selection import cross_val_score, cross_val_predict\n",
    "\n",
    "dt_clf = DecisionTreeClassifier(random_state=42, max_depth=2)\n",
    "dt_clf.fit(X, y)"
   ]
  },
  {
   "cell_type": "markdown",
   "metadata": {},
   "source": [
    "## Confusion Matrix"
   ]
  },
  {
   "cell_type": "code",
   "execution_count": 3,
   "metadata": {},
   "outputs": [],
   "source": [
    "from sklearn.metrics import confusion_matrix"
   ]
  },
  {
   "cell_type": "code",
   "execution_count": 4,
   "metadata": {},
   "outputs": [
    {
     "name": "stdout",
     "output_type": "stream",
     "text": [
      "[[50  0  0]\n",
      " [ 0 49  1]\n",
      " [ 0  5 45]]\n"
     ]
    }
   ],
   "source": [
    "y_pred = dt_clf.predict(X)\n",
    "\n",
    "dt_cm = confusion_matrix(y, y_pred)\n",
    "print(dt_cm)"
   ]
  },
  {
   "cell_type": "markdown",
   "metadata": {},
   "source": [
    "### Set Parameters"
   ]
  },
  {
   "cell_type": "code",
   "execution_count": 5,
   "metadata": {},
   "outputs": [],
   "source": [
    "import matplotlib.pyplot as plt\n",
    "import seaborn as sns\n",
    "\n",
    "#Parameters\n",
    "title = 'Confusion Matrix' #Insert title here\n",
    "custom_color = '#e88c13'   #Insert HEX color\n",
    "\n",
    "#Function for drawing confusion matrix\n",
    "def draw_confusion_matrix(cm, title = title, color = custom_color):\n",
    "    \n",
    "    palette = sns.light_palette(color, as_cmap=True)\n",
    "    ax = plt.subplot()\n",
    "    sns.heatmap(cm, annot=True, ax=ax, fmt='d', cmap=palette) # fmt = ['d'/'f'/'e'] \n",
    "                                                                      # d = integer \n",
    "                                                                      # f = float\n",
    "                                                                      # e = exponential\n",
    "    \n",
    "    # Title\n",
    "    ax.set_title('\\n' + title + '\\n',\n",
    "                 fontweight='bold',    # ['light'|'normal'|'bold'|'heavy']\n",
    "                 fontstyle='italic',   # ['normal'|'italic'|'oblique']  \n",
    "                )\n",
    "    \n",
    "    # x y labels \n",
    "    ax.set_xlabel('Predicted', fontweight='bold')\n",
    "    ax.set_ylabel('Actual', fontweight='bold');\n",
    "    \n",
    "    # Classes names\n",
    "    x_names = ['setosa', 'versicolor', 'virginica']\n",
    "    y_names = ['setosa', 'versicolor', 'virginica']\n",
    "    ax.xaxis.set_ticklabels(x_names, ha = 'center') # ['left'|'right'|'center']\n",
    "    ax.yaxis.set_ticklabels(y_names, va = 'center') # ['left'|'right'|'center']"
   ]
  },
  {
   "cell_type": "markdown",
   "metadata": {},
   "source": [
    "### Draw Matrix"
   ]
  },
  {
   "cell_type": "code",
   "execution_count": 6,
   "metadata": {},
   "outputs": [
    {
     "data": {
      "image/png": "[encoded data removed]",
      "text/plain": [
       "<Figure size 432x288 with 2 Axes>"
      ]
     },
     "metadata": {
      "needs_background": "light"
     },
     "output_type": "display_data"
    }
   ],
   "source": [
    "draw_confusion_matrix(dt_cm, 'DT - Confusion Matrix')"
   ]
  },
  {
   "cell_type": "code",
   "execution_count": null,
   "metadata": {},
   "outputs": [],
   "source": []
  }
 ],
 "metadata": {
  "kernelspec": {
   "display_name": "Python 3",
   "language": "python",
   "name": "python3"
  },
  "language_info": {
   "codemirror_mode": {
    "name": "ipython",
    "version": 3
   },
   "file_extension": ".py",
   "mimetype": "text/x-python",
   "name": "python",
   "nbconvert_exporter": "python",
   "pygments_lexer": "ipython3",
   "version": "3.6.9"
  }
 },
 "nbformat": 4,
 "nbformat_minor": 4
}
